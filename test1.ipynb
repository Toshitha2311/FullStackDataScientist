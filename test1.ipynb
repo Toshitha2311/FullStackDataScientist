{
 "cells": [
  {
   "cell_type": "code",
   "execution_count": 4,
   "id": "7dec037b",
   "metadata": {},
   "outputs": [
    {
     "name": "stdout",
     "output_type": "stream",
     "text": [
      "300\n"
     ]
    }
   ],
   "source": [
    "p,a=map(int,input().split())\n",
    "ss=input(\"\")\n",
    "if(a>=60):\n",
    "    p=p*0.10\n",
    "else:\n",
    "    if ss==\"yes\":\n",
    "         p=p*0.20\n",
    "print(p)\n",
    "\n",
    "\n"
   ]
  },
  {
   "cell_type": "code",
   "execution_count": 5,
   "id": "3b12cd68",
   "metadata": {},
   "outputs": [
    {
     "name": "stdout",
     "output_type": "stream",
     "text": [
      "350\n"
     ]
    }
   ],
   "source": [
    "a=int(input(\"\"))\n",
    "if a>500:\n",
    "    print(a)\n",
    "else:\n",
    "    print(a+50)"
   ]
  },
  {
   "cell_type": "code",
   "execution_count": 8,
   "id": "9db2aea1",
   "metadata": {},
   "outputs": [],
   "source": [
    "a=int(input(\"\"))\n",
    "if a>=90 and a<=100:\n",
    "    print(\"A\")\n",
    "elif a>=75 and a<=89:\n",
    "    print(\"B\")\n",
    "elif a>=50 and a<=74:\n",
    "    print(\"C\")\n",
    "elif a<50:\n",
    "    print(\"Fail\")\n"
   ]
  },
  {
   "cell_type": "code",
   "execution_count": 10,
   "id": "acb74e31",
   "metadata": {},
   "outputs": [
    {
     "name": "stdout",
     "output_type": "stream",
     "text": [
      "550.0\n"
     ]
    }
   ],
   "source": [
    "a=int(input(\"\"))\n",
    "if a<500:\n",
    "    a=a+a*0.50\n",
    "elif a>=500 and a<=1000:\n",
    "    a=a+a*0.10\n",
    "elif a>1000:\n",
    "    a=a+a*0.15\n",
    "print(a)\n"
   ]
  },
  {
   "cell_type": "code",
   "execution_count": null,
   "id": "ad7cdee6",
   "metadata": {},
   "outputs": [
    {
     "name": "stdout",
     "output_type": "stream",
     "text": [
      "100.0\n",
      "Eligible\n"
     ]
    }
   ],
   "source": [
    "a,b=map(int,input(\"\").split())\n",
    "c=(a/b)*100\n",
    "if c>=75:\n",
    "    print(\"Eligible\")\n",
    "else:\n",
    "    print(\"Not Eligible\")"
   ]
  },
  {
   "cell_type": "code",
   "execution_count": null,
   "id": "19d6e905",
   "metadata": {},
   "outputs": [
    {
     "name": "stdout",
     "output_type": "stream",
     "text": [
      "nonsucessful\n"
     ]
    }
   ],
   "source": [
    "a=int(input(\"\"))\n",
    "if a%100==0:\n",
    "    print(\"sucessful\")\n",
    "else:\n",
    "    print(\"Non-sucessful\")"
   ]
  },
  {
   "cell_type": "code",
   "execution_count": 16,
   "id": "c84ae5a9",
   "metadata": {},
   "outputs": [
    {
     "name": "stdout",
     "output_type": "stream",
     "text": [
      "Nice Weather,go out!\n"
     ]
    }
   ],
   "source": [
    "t=int(input(\"\"))\n",
    "if t==35:\n",
    "    print(\"Too hot,stay indoors!\")\n",
    "elif t>=20 and t<=35:\n",
    "    print(\"Nice Weather,go out!\")\n",
    "elif t<20:\n",
    "    print(\"It's cold,wear warm clothes\")\n"
   ]
  },
  {
   "cell_type": "code",
   "execution_count": 17,
   "id": "887434ff",
   "metadata": {},
   "outputs": [
    {
     "name": "stdout",
     "output_type": "stream",
     "text": [
      "15\n"
     ]
    }
   ],
   "source": [
    "a=int(input(\"\"))\n",
    "if a>=1 and a<=5:\n",
    "    a+=10\n",
    "elif a<=6 and a>=10:\n",
    "    a+=50\n",
    "print(a)"
   ]
  },
  {
   "cell_type": "code",
   "execution_count": 19,
   "id": "257602d4",
   "metadata": {},
   "outputs": [
    {
     "name": "stdout",
     "output_type": "stream",
     "text": [
      "170\n"
     ]
    }
   ],
   "source": [
    "u = int(input(\"Enter units consumed: \"))\n",
    "\n",
    "if u <= 100:\n",
    "    b = u* 5\n",
    "elif u <= 200:\n",
    "    b = (100 * 5) + (u - 100) * 7\n",
    "else:\n",
    "    b = (100 * 5) + (100 * 7) + (u - 200) * 10\n",
    "\n",
    "print(b)\n"
   ]
  },
  {
   "cell_type": "code",
   "execution_count": 4,
   "id": "c4c5a742",
   "metadata": {},
   "outputs": [
    {
     "name": "stdout",
     "output_type": "stream",
     "text": [
      "False\n"
     ]
    }
   ],
   "source": [
    "a=int(input(\"Enter number:\"))\n",
    "c=0\n",
    "for i in range(1,a+1):\n",
    "    if a%i==0:\n",
    "        c+=1\n",
    "if(c!=2):\n",
    "    print(False)\n",
    "else:\n",
    "    print(True)"
   ]
  },
  {
   "cell_type": "code",
   "execution_count": 8,
   "id": "3c4c3ba8",
   "metadata": {},
   "outputs": [
    {
     "name": "stdout",
     "output_type": "stream",
     "text": [
      "4\n"
     ]
    }
   ],
   "source": [
    "l=list(map(int,input().split()))\n",
    "l.sort()\n",
    "print(l[len(l)-2])"
   ]
  },
  {
   "cell_type": "code",
   "execution_count": 10,
   "id": "7bce3cb8",
   "metadata": {},
   "outputs": [
    {
     "name": "stdout",
     "output_type": "stream",
     "text": [
      "25\n"
     ]
    }
   ],
   "source": [
    "c=0\n",
    "for i in range(1,51):\n",
    "    if(i%2==0):\n",
    "        c+=1\n",
    "print(c)"
   ]
  },
  {
   "cell_type": "code",
   "execution_count": 12,
   "id": "d6a2c7e1",
   "metadata": {},
   "outputs": [
    {
     "name": "stdout",
     "output_type": "stream",
     "text": [
      "L- 0 U- 5\n"
     ]
    }
   ],
   "source": [
    "s=str(input())\n",
    "l,u=0,0\n",
    "for c in s:\n",
    "    if c.isalpha():\n",
    "     if c.isupper():\n",
    "        u+=1\n",
    "     if c.islower():\n",
    "        l+=1\n",
    "print(\"L-\",l,\"U-\",u)"
   ]
  },
  {
   "cell_type": "code",
   "execution_count": 25,
   "id": "2333b9a2",
   "metadata": {},
   "outputs": [
    {
     "name": "stdout",
     "output_type": "stream",
     "text": [
      "0 1 1 2 3 5 8 13 21 34 55 89 144 233 377 610 987 1597 2584 4181 6765 10946 17711 28657 46368 75025 121393 196418 317811 514229 832040 1346269 2178309 3524578 5702887 9227465 14930352 24157817 39088169 63245986 102334155 165580141 267914296 433494437 701408733 1134903170 1836311903 2971215073 4807526976 7778742049 12586269025 20365011074 32951280099 53316291173 86267571272 139583862445 225851433717 365435296162 591286729879 956722026041 1548008755920 2504730781961 4052739537881 6557470319842 10610209857723 17167680177565 27777890035288 44945570212853 72723460248141 117669030460994 190392490709135 308061521170129 498454011879264 806515533049393 1304969544928657 2111485077978050 3416454622906707 5527939700884757 8944394323791464 14472334024676221 23416728348467685 37889062373143906 61305790721611591 99194853094755497 160500643816367088 259695496911122585 420196140727489673 679891637638612258 1100087778366101931 "
     ]
    }
   ],
   "source": [
    "n=int(input())\n",
    "a=0\n",
    "b=1\n",
    "if(n==1):\n",
    "    print(a)\n",
    "if(n==2):\n",
    "    print(a,b,end=\" \")\n",
    "print(a,b,end=\" \")\n",
    "for i in range(3,n+1):\n",
    "    c=a+b\n",
    "    a=b\n",
    "    b=c\n",
    "    print(c,end=\" \")\n"
   ]
  },
  {
   "cell_type": "code",
   "execution_count": 2,
   "id": "dc38954d",
   "metadata": {},
   "outputs": [
    {
     "name": "stdout",
     "output_type": "stream",
     "text": [
      "20 10\n"
     ]
    }
   ],
   "source": [
    "a,b=map(int,input(\"\").split())\n",
    "a,b=b,a\n",
    "print(a,b)"
   ]
  },
  {
   "cell_type": "code",
   "execution_count": 3,
   "id": "f2436ab1",
   "metadata": {},
   "outputs": [
    {
     "name": "stdout",
     "output_type": "stream",
     "text": [
      "olleh\n"
     ]
    }
   ],
   "source": [
    "s=str(input(\"\"))\n",
    "a=\"\".join(reversed(s))\n",
    "print(a)"
   ]
  },
  {
   "cell_type": "code",
   "execution_count": 7,
   "id": "0dcded08",
   "metadata": {},
   "outputs": [
    {
     "name": "stdout",
     "output_type": "stream",
     "text": [
      "True\n"
     ]
    }
   ],
   "source": [
    "a=int(input(\"\"))\n",
    "n=a\n",
    "sum=0\n",
    "l=len(str(a))\n",
    "while(a>0):\n",
    "    q=a%10\n",
    "    sum+=q**l\n",
    "    a=a//10\n",
    "print(sum==n)"
   ]
  },
  {
   "cell_type": "code",
   "execution_count": 8,
   "id": "1d109949",
   "metadata": {},
   "outputs": [
    {
     "name": "stdout",
     "output_type": "stream",
     "text": [
      "2 * 1 = 2\n",
      "2 * 2 = 4\n",
      "2 * 3 = 6\n",
      "2 * 4 = 8\n",
      "2 * 5 = 10\n",
      "2 * 6 = 12\n",
      "2 * 7 = 14\n",
      "2 * 8 = 16\n",
      "2 * 9 = 18\n",
      "2 * 10 = 20\n"
     ]
    }
   ],
   "source": [
    "a=int(input(\"\"))\n",
    "for i in range(1,11):\n",
    "    print(a,\"*\",i,\"=\",a*i)"
   ]
  },
  {
   "cell_type": "code",
   "execution_count": 10,
   "id": "aa0ff3b8",
   "metadata": {},
   "outputs": [
    {
     "name": "stdout",
     "output_type": "stream",
     "text": [
      "VowelsCount= 5 ConsonentCount= 0\n"
     ]
    }
   ],
   "source": [
    "s=str(input(\"\"))\n",
    "vc=0\n",
    "cc=0\n",
    "v=['a','e','i','o','u','A','E','I','O','U']\n",
    "for c in s:\n",
    "    if c.isalpha():\n",
    "        if c in v:\n",
    "            vc+=1\n",
    "        else:\n",
    "            cc+=1\n",
    "print(\"VowelsCount=\",vc,\"ConsonentCount=\",cc)"
   ]
  },
  {
   "cell_type": "code",
   "execution_count": 12,
   "id": "18f6d81e",
   "metadata": {},
   "outputs": [
    {
     "name": "stdout",
     "output_type": "stream",
     "text": [
      "False\n"
     ]
    }
   ],
   "source": [
    "a=int(input(\"\"))\n",
    "if a%4==0 and a%100!=0:\n",
    "    print(True)\n",
    "elif a%400==0:\n",
    "    print(True)\n",
    "else:\n",
    "    print(False)"
   ]
  },
  {
   "cell_type": "code",
   "execution_count": 13,
   "id": "b396ac8c",
   "metadata": {},
   "outputs": [
    {
     "name": "stdout",
     "output_type": "stream",
     "text": [
      "5\n"
     ]
    }
   ],
   "source": [
    "a,b,c,d,e=map(int,input(\"\").split())\n",
    "print(max(a,b,c,d,e))"
   ]
  },
  {
   "cell_type": "code",
   "execution_count": 17,
   "id": "ccf758b9",
   "metadata": {},
   "outputs": [
    {
     "name": "stdout",
     "output_type": "stream",
     "text": [
      "True\n"
     ]
    }
   ],
   "source": [
    "n=int(input(\"\"))\n",
    "s=str(n)\n",
    "l=len(s)\n",
    "i=0\n",
    "j=l-1\n",
    "\n",
    "while(i<j):\n",
    "    if s[i]!=s[j]:\n",
    "        print(False)\n",
    "        break\n",
    "    else:\n",
    "        i+=1\n",
    "        j-=1\n",
    "if i==l/2:\n",
    "    print(True)"
   ]
  },
  {
   "cell_type": "code",
   "execution_count": 19,
   "id": "f0f208f3",
   "metadata": {},
   "outputs": [
    {
     "name": "stdout",
     "output_type": "stream",
     "text": [
      "120\n"
     ]
    }
   ],
   "source": [
    "a=int(input(\"\"))\n",
    "f=1\n",
    "for i in range(1,a+1):\n",
    "    f=f*i\n",
    "print(f)"
   ]
  },
  {
   "cell_type": "code",
   "execution_count": 20,
   "id": "1e044504",
   "metadata": {},
   "outputs": [
    {
     "name": "stdout",
     "output_type": "stream",
     "text": [
      "15\n",
      "30\n",
      "45\n",
      "60\n",
      "75\n",
      "90\n"
     ]
    }
   ],
   "source": [
    "for i in range(1,101):\n",
    "    if i%5==0 and i%3==0:\n",
    "        print(i)"
   ]
  },
  {
   "cell_type": "code",
   "execution_count": 39,
   "id": "f9202c3b",
   "metadata": {},
   "outputs": [
    {
     "name": "stdout",
     "output_type": "stream",
     "text": [
      "Not Anagrams\n"
     ]
    }
   ],
   "source": [
    "s1,s2=map(str,input(\"Enter two strings: \").split())\n",
    "c1=int(0)\n",
    "for c in s1:\n",
    "    if(c not in s2):\n",
    "        print(\"Not Anagrams\")\n",
    "        break\n",
    "    else:\n",
    "        c1+=1\n",
    "if(c1!=0):\n",
    " print(\"Anagrams\")\n"
   ]
  },
  {
   "cell_type": "code",
   "execution_count": null,
   "id": "a94c885c",
   "metadata": {},
   "outputs": [
    {
     "name": "stdout",
     "output_type": "stream",
     "text": [
      "30.8\n",
      "Fail\n"
     ]
    }
   ],
   "source": [
    "s1,s2,s3,s4,s5=map(int,input().split())\n",
    "sum=s1+s2+s3+s4+s4\n",
    "t=sum/5\n",
    "if t>=90:\n",
    "    print(\"A\")\n",
    "elif t>=75:\n",
    "   print(\"B\")\n",
    "elif t>=50:\n",
    "    print(\"C\")\n",
    "else:\n",
    "    print(\"Fail\")"
   ]
  },
  {
   "cell_type": "code",
   "execution_count": 44,
   "id": "a9b83665",
   "metadata": {},
   "outputs": [
    {
     "name": "stdout",
     "output_type": "stream",
     "text": [
      "2 3 5 7 11 13 17 19 23 29 31 37 41 43 47 53 59 61 67 71 73 79 83 89 97 "
     ]
    }
   ],
   "source": [
    "for i in range(1,100+1):\n",
    "    c=0\n",
    "    for j in range(1,i+1):\n",
    "        if(i%j==0):\n",
    "            c+=1\n",
    "    if(c==2):\n",
    "        print(i,end=\" \")"
   ]
  },
  {
   "cell_type": "code",
   "execution_count": 54,
   "id": "d3495804",
   "metadata": {},
   "outputs": [
    {
     "name": "stdout",
     "output_type": "stream",
     "text": [
      "2\n"
     ]
    }
   ],
   "source": [
    "s=input(\"Enter strings\")\n",
    "wc=0\n",
    "prev=False\n",
    "for c in s:\n",
    "    if c.isalnum():\n",
    "        if not prev:\n",
    "            wc+=1\n",
    "            prev=True\n",
    "    else:\n",
    "        prev=False\n",
    "print(wc)\n"
   ]
  },
  {
   "cell_type": "code",
   "execution_count": 38,
   "id": "3f5015a0",
   "metadata": {},
   "outputs": [
    {
     "name": "stdout",
     "output_type": "stream",
     "text": [
      "True\n"
     ]
    }
   ],
   "source": [
    "n=int(input())\n",
    "s=0\n",
    "for i in range(1,n):\n",
    "    if(n%i==0):\n",
    "        s+=i\n",
    "if(s==n):\n",
    "    print(True)\n",
    "else:\n",
    "    print(False)"
   ]
  }
 ],
 "metadata": {
  "kernelspec": {
   "display_name": "Python 3",
   "language": "python",
   "name": "python3"
  },
  "language_info": {
   "codemirror_mode": {
    "name": "ipython",
    "version": 3
   },
   "file_extension": ".py",
   "mimetype": "text/x-python",
   "name": "python",
   "nbconvert_exporter": "python",
   "pygments_lexer": "ipython3",
   "version": "3.11.0"
  }
 },
 "nbformat": 4,
 "nbformat_minor": 5
}
