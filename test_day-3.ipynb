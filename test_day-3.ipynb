{
 "cells": [
  {
   "cell_type": "code",
   "execution_count": 4,
   "id": "3fb9c8a3",
   "metadata": {},
   "outputs": [
    {
     "name": "stdout",
     "output_type": "stream",
     "text": [
      "2 3 5 7 11 13 17 19 "
     ]
    }
   ],
   "source": [
    "def prime(n):\n",
    "    for i in range(1,n+1):\n",
    "        c=0\n",
    "        for j in range(1,i+1):\n",
    "            if(i%j==0):\n",
    "                c+=1\n",
    "        if c==2:\n",
    "            print(i,end=\" \")\n",
    "n=int(input(\"\"))\n",
    "prime(n)"
   ]
  },
  {
   "cell_type": "code",
   "execution_count": null,
   "id": "a97eb767",
   "metadata": {},
   "outputs": [
    {
     "name": "stdout",
     "output_type": "stream",
     "text": [
      "neveroddoreven\n",
      "Palindrome\n"
     ]
    }
   ],
   "source": [
    "def palindrome(str):\n",
    "    l=len(str)\n",
    "    i=0\n",
    "    j=l-1\n",
    "    c=0\n",
    "    while(i<j):\n",
    "        if str[i]==str[j]:\n",
    "            i+=1\n",
    "            j-=1\n",
    "        else:\n",
    "            c=1\n",
    "            print(\"Not palindrome\")\n",
    "            break\n",
    "    if c!=1:\n",
    "        print(\"Palindrome\")\n",
    "        \n",
    "string=input(\"\")\n",
    "string=string.lower().replace(\" \",\"\")\n",
    "palindrome(string)\n",
    "\n",
    "\n",
    "    "
   ]
  },
  {
   "cell_type": "code",
   "execution_count": 24,
   "id": "66c38e25",
   "metadata": {},
   "outputs": [
    {
     "name": "stdout",
     "output_type": "stream",
     "text": [
      "VowelCount= 2 ConsonentCount= 3\n"
     ]
    }
   ],
   "source": [
    "def countofvc(str,v):\n",
    "    vc=0\n",
    "    cc=0\n",
    "    for c in str:\n",
    "        if c.isalpha():\n",
    "            if c in v:\n",
    "                vc+=1\n",
    "            else:\n",
    "                cc+=1\n",
    "    print(\"VowelCount=\",vc,\"ConsonentCount=\",cc)\n",
    "str=input(\"\")\n",
    "v=['A','E','I','O','U','a','e','i','o','u']\n",
    "countofvc(str,v)"
   ]
  },
  {
   "cell_type": "code",
   "execution_count": null,
   "id": "5dbfdb0e",
   "metadata": {},
   "outputs": [
    {
     "name": "stdout",
     "output_type": "stream",
     "text": [
      "amazing\n"
     ]
    }
   ],
   "source": [
    "#Identify longest word in sentence\n",
    "def longestlen(str):\n",
    "    c=\"\"\n",
    "    l=str.split(\" \")\n",
    "    for w in l:\n",
    "        if len(w)>len(c):\n",
    "            c=w\n",
    "    print(c)\n",
    "str=input(\"\")\n",
    "longestlen(str)\n"
   ]
  },
  {
   "cell_type": "code",
   "execution_count": 20,
   "id": "0c56de4d",
   "metadata": {},
   "outputs": [
    {
     "name": "stdout",
     "output_type": "stream",
     "text": [
      "anagram\n"
     ]
    }
   ],
   "source": [
    "def anagram(str1,str2):\n",
    "   if sorted(str1)==sorted(str2):\n",
    "      print(\"anagram\")\n",
    "   else:\n",
    "      print(\"Not anagrams\")\n",
    "str1,str2=input(\"\").split()\n",
    "anagram(str1,str2)"
   ]
  },
  {
   "cell_type": "code",
   "execution_count": null,
   "id": "e3f9748d",
   "metadata": {},
   "outputs": [
    {
     "name": "stdout",
     "output_type": "stream",
     "text": [
      "J)|X\n"
     ]
    }
   ],
   "source": [
    "#generate password\n",
    "import random\n",
    "import string\n",
    "def generate_pass(l):\n",
    "    ch=string.ascii_letters+string.digits+string.punctuation\n",
    "    return ''.join(random.choices(ch,k=l))\n",
    "\n",
    "l=int(input(\"Enter length of password\"))\n",
    "print(generate_pass(l))"
   ]
  },
  {
   "cell_type": "code",
   "execution_count": null,
   "id": "806df68f",
   "metadata": {},
   "outputs": [
    {
     "name": "stdout",
     "output_type": "stream",
     "text": [
      "The number is: 6:2.45\n",
      "Sin fucntion of 6:-0.28\n",
      "Cos fucntion of 6:0.96\n",
      "Factorial of 6: 720\n"
     ]
    }
   ],
   "source": [
    "#Implement sqrt,sin,cos,fact\n",
    "from math import sqrt,sin,cos,factorial\n",
    "n=int(input(\"\"))\n",
    "print(f\"The number is: {n}:{sqrt(n):.2f}\")\n",
    "print(f\"Sin fucntion of {n}:{sin(n):.2f}\")\n",
    "print(f\"Cos fucntion of {n}:{cos(n):.2f}\")\n",
    "print(f\"Factorial of {n}:\",factorial(n))\n",
    "\n"
   ]
  },
  {
   "cell_type": "code",
   "execution_count": 45,
   "id": "d6e4c48e",
   "metadata": {},
   "outputs": [
    {
     "name": "stdout",
     "output_type": "stream",
     "text": [
      "Counter({'cat': 2, 'dog': 1})\n"
     ]
    }
   ],
   "source": [
    "#WordFrequency Counter\n",
    "from collections import Counter \n",
    "str=input(\"\")\n",
    "w=str.split(\" \")\n",
    "print(Counter(w))"
   ]
  },
  {
   "cell_type": "code",
   "execution_count": 56,
   "id": "a20840e6",
   "metadata": {},
   "outputs": [
    {
     "name": "stdout",
     "output_type": "stream",
     "text": [
      "Weather=['Rainy'],Temperature=22C\n"
     ]
    }
   ],
   "source": [
    "#Weather simulator\n",
    "import random\n",
    "s=input(\"\")\n",
    "if s==\"\":\n",
    "    w=[\"Sunny\",\"Warm\",\"Rainy\",\"Cloudy\"]\n",
    "    t=random.randint(15,40)\n",
    "    print(f\"Weather={random.choices(w)},Temperature={t}C\")"
   ]
  },
  {
   "cell_type": "code",
   "execution_count": null,
   "id": "d1c020d4",
   "metadata": {},
   "outputs": [
    {
     "name": "stdout",
     "output_type": "stream",
     "text": [
      "00:03\n",
      "00:02\n",
      "00:01\n",
      "Time's up!\n"
     ]
    }
   ],
   "source": [
    "import time\n",
    "\n",
    "def countdown(t):\n",
    "    while t:\n",
    "        mins, secs = divmod(t, 60)\n",
    "        timer = '{:02d}:{:02d}'.format(mins, secs)\n",
    "        print(timer)  \n",
    "        time.sleep(1)\n",
    "        t -= 1\n",
    "    print(\"Time's up!\")\n",
    "\n",
    "n=int(input(\"\"))\n",
    "countdown(n) "
   ]
  },
  {
   "cell_type": "code",
   "execution_count": null,
   "id": "ca458972",
   "metadata": {},
   "outputs": [
    {
     "name": "stdout",
     "output_type": "stream",
     "text": [
      "Balance: 120\n"
     ]
    }
   ],
   "source": [
    "#Bank Account Class\n",
    "class BankAccount:\n",
    "    def __init__(self,amount):\n",
    "        self.amount=amount\n",
    "    def deposit(self,amount):\n",
    "        self.amount+=amount\n",
    "    def withdraw(self,amount):\n",
    "        self.amount-=amount\n",
    "    def get_balance(self):\n",
    "        return self.amount\n",
    "b=BankAccount(100)\n",
    "b.deposit(50)\n",
    "b.withdraw(30)\n",
    "print(\"Balance:\",b.get_balance())"
   ]
  },
  {
   "cell_type": "code",
   "execution_count": null,
   "id": "cafe04f0",
   "metadata": {},
   "outputs": [
    {
     "name": "stdout",
     "output_type": "stream",
     "text": [
      "Average: 85.0\n",
      "Highest mark: 90\n",
      "Add marks: [90, 80, 85, 95]\n"
     ]
    }
   ],
   "source": [
    "#Student Class with Average\n",
    "class studentavg:\n",
    "    def __init__(self,name,l):\n",
    "        self.name=name\n",
    "        self.l=l\n",
    "    def average(self,l):\n",
    "        return sum(l)/len(l)\n",
    "    def highest(self,l):\n",
    "        return max(l)\n",
    "    def add(self,l,n):\n",
    "        l.append(n)\n",
    "        return l\n",
    "l=[90,80,85]\n",
    "stu=studentavg(\"Aara\",l)\n",
    "print(\"Average:\",stu.average(l))\n",
    "print(\"Highest mark:\",stu.highest(l))\n",
    "print(\"Add marks:\",stu.add(l,95))\n",
    "\n",
    "\n",
    "\n",
    "    "
   ]
  },
  {
   "cell_type": "code",
   "execution_count": 12,
   "id": "95fd6d01",
   "metadata": {},
   "outputs": [
    {
     "name": "stdout",
     "output_type": "stream",
     "text": [
      "Bonus: 10000\n"
     ]
    }
   ],
   "source": [
    "#Employee Bonus System\n",
    "class Bonus_System:\n",
    "    def __init__(self,name,salary):\n",
    "        self.name=name\n",
    "        self.salary=salary\n",
    "    def Manager(self,salary):\n",
    "        return salary*0.20\n",
    "    def Intern(self,salary):\n",
    "        return salary*0.05\n",
    "    def Developer(self,salary):\n",
    "        return salary*0.10\n",
    "b=Bonus_System(\"Alice\",50000)\n",
    "print(\"Bonus:\",int(b.Manager(50000)))\n",
    "        "
   ]
  },
  {
   "cell_type": "code",
   "execution_count": 14,
   "id": "53f50ce8",
   "metadata": {},
   "outputs": [
    {
     "name": "stdout",
     "output_type": "stream",
     "text": [
      "Circle Area: 153.94\n",
      "Rectangle Area: 20\n"
     ]
    }
   ],
   "source": [
    "#Shape Area Calculator\n",
    "from math import pi\n",
    "class Shape:\n",
    "    class Circle:\n",
    "        def __init__(self, r):\n",
    "            self.r = r\n",
    "        def area(self):\n",
    "            return pi * self.r * self.r\n",
    "\n",
    "    class Rectangle:\n",
    "        def __init__(self, l, b):\n",
    "            self.l = l\n",
    "            self.b = b\n",
    "        def area(self):\n",
    "            return self.l * self.b\n",
    "c=Shape.Circle(7)\n",
    "r=Shape.Rectangle(4,5)\n",
    "print(f\"Circle Area: {c.area():.2f}\")\n",
    "print(\"Rectangle Area:\", r.area())\n"
   ]
  },
  {
   "cell_type": "code",
   "execution_count": 16,
   "id": "72fb00f5",
   "metadata": {},
   "outputs": [
    {
     "name": "stdout",
     "output_type": "stream",
     "text": [
      "Total = 2000\n"
     ]
    }
   ],
   "source": [
    "class Order:\n",
    "    def __init__(self):\n",
    "        self.items = {}\n",
    "\n",
    "    def add(self, item, price):\n",
    "        self.items[item] = price\n",
    "\n",
    "    def remove(self, item):\n",
    "        if item in self.items:\n",
    "            del self.items[item]\n",
    "\n",
    "    def calculate_total(self):\n",
    "        return sum(self.items.values())\n",
    "\n",
    "    def show_items(self):\n",
    "        if not self.items:\n",
    "            print(\"No items in the order.\")\n",
    "        else:\n",
    "            for name, price in self.items.items():\n",
    "                print(f\"{name}: ₹{price}\")\n",
    "\n",
    "\n",
    "order = Order()\n",
    "order.add(\"Shirt\", 500)\n",
    "order.add(\"Shoes\", 1500)\n",
    "print(\"Total =\", order.calculate_total())\n"
   ]
  },
  {
   "cell_type": "code",
   "execution_count": 19,
   "id": "9d790343",
   "metadata": {},
   "outputs": [
    {
     "name": "stdout",
     "output_type": "stream",
     "text": [
      "[0, 1, 1, 2, 3, 5, 8]\n"
     ]
    }
   ],
   "source": [
    "#Fibanocci series\n",
    "def fibonacci(n):\n",
    "    s = []\n",
    "    a, b = 0, 1\n",
    "    for _ in range(n):\n",
    "        s.append(a)\n",
    "        a, b = b, a + b\n",
    "    return s\n",
    "\n",
    "\n",
    "n=int(input(\"\"))\n",
    "print(fibonacci(n))\n"
   ]
  },
  {
   "cell_type": "code",
   "execution_count": 23,
   "id": "b44639dc",
   "metadata": {},
   "outputs": [
    {
     "name": "stdout",
     "output_type": "stream",
     "text": [
      "120\n"
     ]
    }
   ],
   "source": [
    "def fact(n):\n",
    "    if n == 0 or n == 1:\n",
    "        return 1\n",
    "    return n * fact(n - 1)\n",
    "\n",
    "n = int(input(\"Enter a number: \"))\n",
    "print(fact(n))\n"
   ]
  },
  {
   "cell_type": "code",
   "execution_count": null,
   "id": "2c9f0241",
   "metadata": {},
   "outputs": [
    {
     "name": "stdout",
     "output_type": "stream",
     "text": [
      "{'apple': 3, 'banana': 2, 'orange': 1}\n"
     ]
    }
   ],
   "source": [
    "#Unique Words Counter\n",
    "from collections import Counter\n",
    "str=input(\"\")\n",
    "words=str.split(\" \")\n",
    "print(dict(Counter(words)))"
   ]
  },
  {
   "cell_type": "code",
   "execution_count": 33,
   "id": "3a8e36ee",
   "metadata": {},
   "outputs": [
    {
     "name": "stdout",
     "output_type": "stream",
     "text": [
      "A\n"
     ]
    }
   ],
   "source": [
    "# Grade Calculator\n",
    "def grade(l):\n",
    "    s=sum(l)/len(l)\n",
    "    if s>=90:\n",
    "        print(\"A+\")\n",
    "    elif s>=80:\n",
    "        print(\"A\")\n",
    "    elif s>=70:\n",
    "        print(\"B+\")\n",
    "    elif s>=60:\n",
    "        print(\"pass\")\n",
    "    else:\n",
    "        print(\"Fail\")\n",
    "n=list(map(int,input(\"Enter marks\").split(\" \")))\n",
    "grade(n)\n"
   ]
  },
  {
   "cell_type": "code",
   "execution_count": 36,
   "id": "e5d43c87",
   "metadata": {},
   "outputs": [
    {
     "data": {
      "text/plain": [
       "10"
      ]
     },
     "execution_count": 36,
     "metadata": {},
     "output_type": "execute_result"
    }
   ],
   "source": [
    "#Second Largest Number\n",
    "def seclargest(l):\n",
    "    l.sort()\n",
    "    return l[len(l)-2]\n",
    "l=list(map(int,input(\"\").split(\" \")))\n",
    "seclargest(l)"
   ]
  },
  {
   "cell_type": "code",
   "execution_count": null,
   "id": "e1203463",
   "metadata": {},
   "outputs": [
    {
     "name": "stdout",
     "output_type": "stream",
     "text": [
      "Text file:2 Python files:2\n"
     ]
    }
   ],
   "source": [
    "#`os` → Count Files by Extension\n",
    "f1=[\"notes.txt\", \"app.py\", \"data.csv\", \"report.txt\", \"main.py\"]\n",
    "pc=0\n",
    "tc=0\n",
    "for f in f1:\n",
    "    if f.endswith(\".py\"):\n",
    "        pc+=1\n",
    "    elif f.endswith(\".txt\"):\n",
    "        tc+=1\n",
    "print(f\"Text files:{tc} Python files:{tc}\")\n"
   ]
  },
  {
   "cell_type": "code",
   "execution_count": null,
   "id": "1587fd72",
   "metadata": {},
   "outputs": [
    {
     "name": "stdout",
     "output_type": "stream",
     "text": [
      "Mean: 87.86\n",
      "Median: 90.00\n",
      "Variance: 73.81\n"
     ]
    }
   ],
   "source": [
    "#`statistics` → Exam Score Analysis\n",
    "from statistics import mean,median,variance\n",
    "scores=[75, 80, 90, 100, 85, 90, 95]\n",
    "print(f\"Mean: {mean(scores):.2f}\")\n",
    "print(f\"Median: {median(scores):.2f}\")\n",
    "print(f\"Variance: {variance(scores):.2f}\")"
   ]
  },
  {
   "cell_type": "code",
   "execution_count": null,
   "id": "4d2c09fc",
   "metadata": {},
   "outputs": [
    {
     "name": "stdout",
     "output_type": "stream",
     "text": [
      "Root 1:2.0\n",
      "Root 2:1.0\n"
     ]
    }
   ],
   "source": [
    "#math` → Quadratic Equation Solver\n",
    "from math import sqrt\n",
    "a,b,c=map(int,input(\"Enter a,b,c:\").split(\" \"))\n",
    "d=b**2-4*a*c\n",
    "if d>=0:\n",
    "    r1=(-b+sqrt(d))/2*a\n",
    "    r2=(-b-sqrt(d))/2*a\n",
    "    print(f\"Root 1:{r1}\\nRoot 2:{r2}\")\n",
    "else:\n",
    "    print(\"Complex roots\")\n"
   ]
  },
  {
   "cell_type": "code",
   "execution_count": 50,
   "id": "cc6d5075",
   "metadata": {},
   "outputs": [
    {
     "name": "stdout",
     "output_type": "stream",
     "text": [
      "Computer win\n"
     ]
    }
   ],
   "source": [
    "#random` → Rock Paper Scissors Game\n",
    "import random\n",
    "user=input(\"\")\n",
    "c=[\"Rock\",\"Paper\",\"Scissor\"]\n",
    "sp=random.choices(c)\n",
    "if(user == \"Rock\" and sp == \"Scissor\") or \\\n",
    "     (user == \"Paper\" and sp == \"Rock\") or \\\n",
    "     (user == \"Scissor\" and sp == \"Paper\"):\n",
    "    print(\"User won\")\n",
    "elif user==sp:\n",
    "    print(\"Draw\")\n",
    "else:\n",
    "    print(\"Computer win\")"
   ]
  },
  {
   "cell_type": "code",
   "execution_count": null,
   "id": "27e3555c",
   "metadata": {},
   "outputs": [
    {
     "name": "stdout",
     "output_type": "stream",
     "text": [
      "Sum = 30\n"
     ]
    }
   ],
   "source": [
    "#\n",
    "import sys\n",
    "sys.argv = [\"add.py\", \"5\", \"10\", \"15\"]\n",
    "\n",
    "n1 = int(sys.argv[1])\n",
    "n2 = int(sys.argv[2])\n",
    "n3 = int(sys.argv[3])\n",
    "total = n1 + n2 + n3\n",
    "print(\"Sum =\", total)\n"
   ]
  },
  {
   "cell_type": "code",
   "execution_count": 53,
   "id": "9191a21c",
   "metadata": {},
   "outputs": [
    {
     "name": "stdout",
     "output_type": "stream",
     "text": [
      "You borrowed Python 101\n",
      "You returned Python 101\n",
      "Available books: {'Python 101': 3, 'Data Science': 2}\n"
     ]
    }
   ],
   "source": [
    "#1. Library System\n",
    "class Library:\n",
    "    def __init__(self, books):\n",
    "        self.books = books\n",
    "\n",
    "    def borrow(self, title):\n",
    "        if title in self.books and self.books[title] > 0:\n",
    "            self.books[title] -= 1\n",
    "            return f\"You borrowed {title}\"\n",
    "        return f\"Sorry, {title} is not available\"\n",
    "\n",
    "    def return_book(self, title):\n",
    "        if title in self.books:\n",
    "            self.books[title] += 1\n",
    "            return f\"You returned {title}\"\n",
    "        else:\n",
    "            self.books[title] = 1\n",
    "            return f\"{title} added to library\"\n",
    "\n",
    "    def show_books(self):\n",
    "        print(\"Available books:\", self.books)\n",
    "\n",
    "\n",
    "\n",
    "lib = Library({\"Python 101\": 3, \"Data Science\": 2})\n",
    "\n",
    "print(lib.borrow(\"Python 101\"))\n",
    "print(lib.return_book(\"Python 101\"))\n",
    "lib.show_books()\n"
   ]
  },
  {
   "cell_type": "code",
   "execution_count": 54,
   "id": "0595e90f",
   "metadata": {},
   "outputs": [
    {
     "name": "stdout",
     "output_type": "stream",
     "text": [
      "Access Granted\n",
      "Deposited 200\n",
      "Withdrew 100\n",
      "Balance: 600\n"
     ]
    }
   ],
   "source": [
    "class ATM:\n",
    "    def __init__(self, pin, balance=0):\n",
    "        self.pin = pin\n",
    "        self.balance = balance\n",
    "        self.is_authenticated = False\n",
    "\n",
    "    def login(self, pin):\n",
    "        if pin == self.pin:\n",
    "            self.is_authenticated = True\n",
    "            return \"Access Granted\"\n",
    "        return \"Access Denied\"\n",
    "\n",
    "    def check_balance(self):\n",
    "        if self.is_authenticated:\n",
    "            return f\"Balance: {self.balance}\"\n",
    "        return \"Please login first\"\n",
    "\n",
    "    def deposit(self, amount):\n",
    "        if self.is_authenticated:\n",
    "            self.balance += amount\n",
    "            return f\"Deposited {amount}\"\n",
    "        return \"Please login first\"\n",
    "\n",
    "    def withdraw(self, amount):\n",
    "        if not self.is_authenticated:\n",
    "            return \"Please login first\"\n",
    "        if amount > self.balance:\n",
    "            return \"Insufficient funds\"\n",
    "        self.balance -= amount\n",
    "        return f\"Withdrew {amount}\"\n",
    "\n",
    "\n",
    "# Sample Input\n",
    "atm = ATM(1234, 500)\n",
    "\n",
    "print(atm.login(1234))\n",
    "print(atm.deposit(200))\n",
    "print(atm.withdraw(100))\n",
    "print(atm.check_balance())\n"
   ]
  },
  {
   "cell_type": "code",
   "execution_count": null,
   "id": "e41ddc29",
   "metadata": {},
   "outputs": [
    {
     "name": "stdout",
     "output_type": "stream",
     "text": [
      "Dr. Smith is teaching Python\n",
      "Alice enrolled in Python\n",
      "Dr. Smith assigned: Project 1\n",
      "Alice submitted: Project 1\n"
     ]
    }
   ],
   "source": [
    "class Professor:\n",
    "    def __init__(self, name, subject):\n",
    "        self.name = name\n",
    "        self.subject = subject\n",
    "\n",
    "    def teach(self, course):\n",
    "        return f\"{self.name} is teaching {course}\"\n",
    "\n",
    "    def give_assignment(self, task):\n",
    "        return f\"{self.name} assigned: {task}\"\n",
    "\n",
    "\n",
    "class Student:\n",
    "    def __init__(self, name):\n",
    "        self.name = name\n",
    "        self.courses = []\n",
    "        self.assignments = []\n",
    "\n",
    "    def enroll(self, course):\n",
    "        self.courses.append(course)\n",
    "        return f\"{self.name} enrolled in {course}\"\n",
    "\n",
    "    def submit_assignment(self, task):\n",
    "        self.assignments.append(task)\n",
    "        return f\"{self.name} submitted: {task}\"\n",
    "\n",
    "\n",
    "\n",
    "prof = Professor(\"Dr. Smith\", \"Computer Science\")\n",
    "stud = Student(\"Alice\")\n",
    "\n",
    "print(prof.teach(\"Python\"))\n",
    "print(stud.enroll(\"Python\"))\n",
    "print(prof.give_assignment(\"Project 1\"))\n",
    "print(stud.submit_assignment(\"Project 1\"))\n"
   ]
  },
  {
   "cell_type": "code",
   "execution_count": 56,
   "id": "0cbe4fb3",
   "metadata": {},
   "outputs": [
    {
     "name": "stdout",
     "output_type": "stream",
     "text": [
      "Booked 2 tickets for Avatar\n",
      "Cancelled 1 ticket for Avatar\n",
      "Movies: {'Avatar': 9, 'Batman': 5}\n"
     ]
    }
   ],
   "source": [
    "class Cinema:\n",
    "    def __init__(self, movies):\n",
    "        self.movies = movies\n",
    "\n",
    "    def book(self, movie, seats):\n",
    "        if movie not in self.movies:\n",
    "            return f\"{movie} not available\"\n",
    "        if self.movies[movie] < seats:\n",
    "            return f\"Not enough seats available for {movie}\"\n",
    "        self.movies[movie] -= seats\n",
    "        return f\"Booked {seats} tickets for {movie}\"\n",
    "\n",
    "    def cancel(self, movie, seats):\n",
    "        if movie not in self.movies:\n",
    "            return f\"{movie} not available\"\n",
    "        self.movies[movie] += seats\n",
    "        return f\"Cancelled {seats} ticket for {movie}\"\n",
    "\n",
    "    def show_movies(self):\n",
    "        print(f\"Movies: {self.movies}\")\n",
    "\n",
    "\n",
    "\n",
    "cinema = Cinema({\"Avatar\": 10, \"Batman\": 5})\n",
    "\n",
    "print(cinema.book(\"Avatar\", 2))\n",
    "print(cinema.cancel(\"Avatar\", 1))\n",
    "cinema.show_movies()\n"
   ]
  },
  {
   "cell_type": "code",
   "execution_count": 58,
   "id": "796c6be9",
   "metadata": {},
   "outputs": [
    {
     "name": "stdout",
     "output_type": "stream",
     "text": [
      "Burger added\n",
      "Pizza added\n",
      "Pizza price updated to 250\n",
      "Burger removed\n",
      "Menu: {'Pizza': 250}\n"
     ]
    }
   ],
   "source": [
    "class Menu:\n",
    "    def __init__(self):\n",
    "        self.items = {}\n",
    "\n",
    "    def add_item(self, name, price):\n",
    "        self.items[name] = price\n",
    "        return f\"{name} added\"\n",
    "\n",
    "    def remove_item(self, name):\n",
    "        if name in self.items:\n",
    "            del self.items[name]\n",
    "            return f\"{name} removed\"\n",
    "        return f\"{name} not found\"\n",
    "\n",
    "    def update_price(self, name, new_price):\n",
    "        if name in self.items:\n",
    "            self.items[name] = new_price\n",
    "            return f\"{name} price updated to {new_price}\"\n",
    "        return f\"{name} not found\"\n",
    "\n",
    "    def show_menu(self):\n",
    "        print(f\"Menu: {self.items}\")\n",
    "\n",
    "\n",
    "\n",
    "menu = Menu()\n",
    "\n",
    "print(menu.add_item(\"Burger\", 100))\n",
    "print(menu.add_item(\"Pizza\", 200))\n",
    "print(menu.update_price(\"Pizza\", 250))\n",
    "print(menu.remove_item(\"Burger\"))\n",
    "menu.show_menu()\n"
   ]
  }
 ],
 "metadata": {
  "kernelspec": {
   "display_name": "Python 3",
   "language": "python",
   "name": "python3"
  },
  "language_info": {
   "codemirror_mode": {
    "name": "ipython",
    "version": 3
   },
   "file_extension": ".py",
   "mimetype": "text/x-python",
   "name": "python",
   "nbconvert_exporter": "python",
   "pygments_lexer": "ipython3",
   "version": "3.11.0"
  }
 },
 "nbformat": 4,
 "nbformat_minor": 5
}
