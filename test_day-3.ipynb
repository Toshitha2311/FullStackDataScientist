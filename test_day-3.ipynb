{
 "cells": [
  {
   "cell_type": "code",
   "execution_count": 4,
   "id": "3fb9c8a3",
   "metadata": {},
   "outputs": [
    {
     "name": "stdout",
     "output_type": "stream",
     "text": [
      "2 3 5 7 11 13 17 19 "
     ]
    }
   ],
   "source": [
    "def prime(n):\n",
    "    for i in range(1,n+1):\n",
    "        c=0\n",
    "        for j in range(1,i+1):\n",
    "            if(i%j==0):\n",
    "                c+=1\n",
    "        if c==2:\n",
    "            print(i,end=\" \")\n",
    "n=int(input(\"\"))\n",
    "prime(n)"
   ]
  },
  {
   "cell_type": "code",
   "execution_count": null,
   "id": "a97eb767",
   "metadata": {},
   "outputs": [
    {
     "name": "stdout",
     "output_type": "stream",
     "text": [
      "neveroddoreven\n",
      "Palindrome\n"
     ]
    }
   ],
   "source": [
    "def palindrome(str):\n",
    "    l=len(str)\n",
    "    i=0\n",
    "    j=l-1\n",
    "    c=0\n",
    "    while(i<j):\n",
    "        if str[i]==str[j]:\n",
    "            i+=1\n",
    "            j-=1\n",
    "        else:\n",
    "            c=1\n",
    "            print(\"Not palindrome\")\n",
    "            break\n",
    "    if c!=1:\n",
    "        print(\"Palindrome\")\n",
    "        \n",
    "string=input(\"\")\n",
    "string=string.lower().replace(\" \",\"\")\n",
    "palindrome(string)\n",
    "\n",
    "\n",
    "    "
   ]
  },
  {
   "cell_type": "code",
   "execution_count": 24,
   "id": "66c38e25",
   "metadata": {},
   "outputs": [
    {
     "name": "stdout",
     "output_type": "stream",
     "text": [
      "VowelCount= 2 ConsonentCount= 3\n"
     ]
    }
   ],
   "source": [
    "def countofvc(str,v):\n",
    "    vc=0\n",
    "    cc=0\n",
    "    for c in str:\n",
    "        if c.isalpha():\n",
    "            if c in v:\n",
    "                vc+=1\n",
    "            else:\n",
    "                cc+=1\n",
    "    print(\"VowelCount=\",vc,\"ConsonentCount=\",cc)\n",
    "str=input(\"\")\n",
    "v=['A','E','I','O','U','a','e','i','o','u']\n",
    "countofvc(str,v)"
   ]
  },
  {
   "cell_type": "code",
   "execution_count": null,
   "id": "5dbfdb0e",
   "metadata": {},
   "outputs": [
    {
     "name": "stdout",
     "output_type": "stream",
     "text": [
      "amazing\n"
     ]
    }
   ],
   "source": [
    "#Identify longest word in sentence\n",
    "def longestlen(str):\n",
    "    c=\"\"\n",
    "    l=str.split(\" \")\n",
    "    for w in l:\n",
    "        if len(w)>len(c):\n",
    "            c=w\n",
    "    print(c)\n",
    "str=input(\"\")\n",
    "longestlen(str)\n"
   ]
  },
  {
   "cell_type": "code",
   "execution_count": 20,
   "id": "0c56de4d",
   "metadata": {},
   "outputs": [
    {
     "name": "stdout",
     "output_type": "stream",
     "text": [
      "anagram\n"
     ]
    }
   ],
   "source": [
    "def anagram(str1,str2):\n",
    "   if sorted(str1)==sorted(str2):\n",
    "      print(\"anagram\")\n",
    "   else:\n",
    "      print(\"Not anagrams\")\n",
    "str1,str2=input(\"\").split()\n",
    "anagram(str1,str2)"
   ]
  },
  {
   "cell_type": "code",
   "execution_count": null,
   "id": "e3f9748d",
   "metadata": {},
   "outputs": [
    {
     "name": "stdout",
     "output_type": "stream",
     "text": [
      "J)|X\n"
     ]
    }
   ],
   "source": [
    "#generate password\n",
    "import random\n",
    "import string\n",
    "def generate_pass(l):\n",
    "    ch=string.ascii_letters+string.digits+string.punctuation\n",
    "    return ''.join(random.choices(ch,k=l))\n",
    "\n",
    "l=int(input(\"Enter length of password\"))\n",
    "print(generate_pass(l))"
   ]
  },
  {
   "cell_type": "code",
   "execution_count": null,
   "id": "806df68f",
   "metadata": {},
   "outputs": [
    {
     "name": "stdout",
     "output_type": "stream",
     "text": [
      "The number is: 6:2.45\n",
      "Sin fucntion of 6:-0.28\n",
      "Cos fucntion of 6:0.96\n",
      "Factorial of 6: 720\n"
     ]
    }
   ],
   "source": [
    "#Implement sqrt,sin,cos,fact\n",
    "from math import sqrt,sin,cos,factorial\n",
    "n=int(input(\"\"))\n",
    "print(f\"The number is: {n}:{sqrt(n):.2f}\")\n",
    "print(f\"Sin fucntion of {n}:{sin(n):.2f}\")\n",
    "print(f\"Cos fucntion of {n}:{cos(n):.2f}\")\n",
    "print(f\"Factorial of {n}:\",factorial(n))\n",
    "\n"
   ]
  },
  {
   "cell_type": "code",
   "execution_count": 45,
   "id": "d6e4c48e",
   "metadata": {},
   "outputs": [
    {
     "name": "stdout",
     "output_type": "stream",
     "text": [
      "Counter({'cat': 2, 'dog': 1})\n"
     ]
    }
   ],
   "source": [
    "#WordFrequency Counter\n",
    "from collections import Counter \n",
    "str=input(\"\")\n",
    "w=str.split(\" \")\n",
    "print(Counter(w))"
   ]
  },
  {
   "cell_type": "code",
   "execution_count": 56,
   "id": "a20840e6",
   "metadata": {},
   "outputs": [
    {
     "name": "stdout",
     "output_type": "stream",
     "text": [
      "Weather=['Rainy'],Temperature=22C\n"
     ]
    }
   ],
   "source": [
    "#Weather simulator\n",
    "import random\n",
    "s=input(\"\")\n",
    "if s==\"\":\n",
    "    w=[\"Sunny\",\"Warm\",\"Rainy\",\"Cloudy\"]\n",
    "    t=random.randint(15,40)\n",
    "    print(f\"Weather={random.choices(w)},Temperature={t}C\")"
   ]
  },
  {
   "cell_type": "code",
   "execution_count": null,
   "id": "d1c020d4",
   "metadata": {},
   "outputs": [
    {
     "name": "stdout",
     "output_type": "stream",
     "text": [
      "00:03\n",
      "00:02\n",
      "00:01\n",
      "Time's up!\n"
     ]
    }
   ],
   "source": [
    "import time\n",
    "\n",
    "def countdown(t):\n",
    "    while t:\n",
    "        mins, secs = divmod(t, 60)\n",
    "        timer = '{:02d}:{:02d}'.format(mins, secs)\n",
    "        print(timer)  \n",
    "        time.sleep(1)\n",
    "        t -= 1\n",
    "    print(\"Time's up!\")\n",
    "\n",
    "n=int(input(\"\"))\n",
    "countdown(n) "
   ]
  }
 ],
 "metadata": {
  "kernelspec": {
   "display_name": "Python 3",
   "language": "python",
   "name": "python3"
  },
  "language_info": {
   "codemirror_mode": {
    "name": "ipython",
    "version": 3
   },
   "file_extension": ".py",
   "mimetype": "text/x-python",
   "name": "python",
   "nbconvert_exporter": "python",
   "pygments_lexer": "ipython3",
   "version": "3.11.0"
  }
 },
 "nbformat": 4,
 "nbformat_minor": 5
}
