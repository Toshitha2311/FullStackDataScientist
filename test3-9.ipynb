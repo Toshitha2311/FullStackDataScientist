{
 "cells": [
  {
   "cell_type": "code",
   "execution_count": 6,
   "id": "65a814f8",
   "metadata": {},
   "outputs": [
    {
     "name": "stdout",
     "output_type": "stream",
     "text": [
      "Total Words      =  3\n",
      "Total Characters =  16\n",
      "Total Vowels     =  6\n"
     ]
    }
   ],
   "source": [
    "l = str(input(\"Enter sentence: \"))\n",
    "cc = 0\n",
    "vc = 0\n",
    "v = ['a','e','i','o','u','A','E','I','O','U']\n",
    "\n",
    "wc = len(l.split())\n",
    "cc = len(l.replace(\" \", \"\"))+1  \n",
    "for c in l:\n",
    "    if c in v:\n",
    "        vc += 1\n",
    "\n",
    "print(\"Total Words      = \", wc)\n",
    "print(\"Total Characters = \", cc)\n",
    "print(\"Total Vowels     = \", vc)\n"
   ]
  },
  {
   "cell_type": "code",
   "execution_count": 8,
   "id": "a6b2ce29",
   "metadata": {},
   "outputs": [
    {
     "name": "stdout",
     "output_type": "stream",
     "text": [
      "Compound Interest = 512.50\n",
      "Total Amount = 5512.50\n"
     ]
    }
   ],
   "source": [
    "p, r, t = map(float, input(\"Enter principal amount, rate, time: \").split())\n",
    "Interesttype = input(\"Enter Interest Type (Simple/Compound): \").strip()\n",
    "\n",
    "if Interesttype == \"Compound\":\n",
    "    total = p * (1 + r / 100) ** t\n",
    "    c = total - p\n",
    "    print(f\"Compound Interest = {c:.2f}\")\n",
    "    print(f\"Total Amount = {total:.2f}\")\n",
    "\n",
    "elif Interesttype == \"Simple\":\n",
    "    s = (p * r * t) / 100\n",
    "    total = p + s\n",
    "    print(f\"Simple Interest = {s:.2f}\")\n",
    "    print(f\"Total Amount = {total:.2f}\")\n",
    "\n",
    "else:\n",
    "    print(\"Invalid Interest Type! Please enter 'Simple' or 'Compound'.\")\n"
   ]
  },
  {
   "cell_type": "code",
   "execution_count": 12,
   "id": "5ea93e37",
   "metadata": {},
   "outputs": [
    {
     "name": "stdout",
     "output_type": "stream",
     "text": [
      "Encrypted Message: KHOOR\n"
     ]
    }
   ],
   "source": [
    "s = input(\"Enter message: \")\n",
    "shift = int(input(\"Enter shift value: \"))\n",
    "\n",
    "enc= \"\"\n",
    "for c in s:\n",
    "    if c.isalpha():\n",
    "        base = ord('A') if c.isupper() else ord('a')\n",
    "        enc += chr((ord(c) - base + shift) % 26 + base)\n",
    "    else:\n",
    "        enc+= c\n",
    "\n",
    "print(\"Encrypted Message:\", enc)\n"
   ]
  },
  {
   "cell_type": "code",
   "execution_count": 13,
   "id": "00fddc15",
   "metadata": {},
   "outputs": [
    {
     "name": "stdout",
     "output_type": "stream",
     "text": [
      "PIN Verified\n",
      "Withfrawal Sucessful.Remaining Balance=3000\n"
     ]
    }
   ],
   "source": [
    "pin,bal,withdraw=map(int,input(\"Enter pin,balance,withdrawal amount:\").split())\n",
    "pinl=[1234,2345,3456,45678,89075,4325,3567]\n",
    "if pin in pinl:\n",
    "    if bal>withdraw:\n",
    "        print(f\"PIN Verified\\nWithfrawal Sucessful.Remaining Balance={bal-withdraw}\")\n",
    "    else:\n",
    "        print(f\"PIN Verified\\nInsufficient balance\")\n",
    "else:\n",
    "    print(\"PIN IS WRONG.TRY AGIAN LATER\")\n"
   ]
  },
  {
   "cell_type": "code",
   "execution_count": 14,
   "id": "e36d81c9",
   "metadata": {},
   "outputs": [
    {
     "name": "stdout",
     "output_type": "stream",
     "text": [
      "Current Books:['Python Basics', 'AI Fundamentals', 'Machine Learning']\n",
      "Total Books:3\n"
     ]
    }
   ],
   "source": [
    "Books=[\"Python Basics\",\"Data Science\",\"AI Fundamentals\"]\n",
    "Addb=input(\"Add book:\")\n",
    "remb=input(\"Remove book\")\n",
    "Books.append(Addb)\n",
    "Books.remove(remb)\n",
    "print(f\"Current Books:{Books}\\nTotal Books:{len(Books)}\")\n",
    "\n"
   ]
  }
 ],
 "metadata": {
  "kernelspec": {
   "display_name": "Python 3",
   "language": "python",
   "name": "python3"
  },
  "language_info": {
   "codemirror_mode": {
    "name": "ipython",
    "version": 3
   },
   "file_extension": ".py",
   "mimetype": "text/x-python",
   "name": "python",
   "nbconvert_exporter": "python",
   "pygments_lexer": "ipython3",
   "version": "3.11.0"
  }
 },
 "nbformat": 4,
 "nbformat_minor": 5
}
