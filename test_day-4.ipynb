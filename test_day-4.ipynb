{
 "cells": [
  {
   "cell_type": "code",
   "execution_count": null,
   "id": "f0b56562",
   "metadata": {},
   "outputs": [
    {
     "name": "stdout",
     "output_type": "stream",
     "text": [
      "['hello', 'all', 'from', 'cvr']\n"
     ]
    }
   ],
   "source": [
    "#1. Problem: Given a text file, count the total number of words.\n",
    "f=open(\"file.txt\",\"r+\")\n",
    "w=f.readline()\n",
    "print(w.split())"
   ]
  },
  {
   "cell_type": "code",
   "execution_count": 16,
   "id": "79999962",
   "metadata": {},
   "outputs": [
    {
     "name": "stdout",
     "output_type": "stream",
     "text": [
      "Strong password\n"
     ]
    }
   ],
   "source": [
    "#2. Problem: Write a program to check if a password is strong (at least 8 characters, contains uppercase, lowercase, digit, and special char).\n",
    "import string\n",
    "from operator import contains\n",
    "n=input(\"\")\n",
    "if len(n)>=8:\n",
    "    lower=any(c in string.ascii_lowercase for c in n)\n",
    "    upper=any(c in string.ascii_uppercase for c in n)\n",
    "    spcl=any(c in string.punctuation for c in n)\n",
    "    dig=any(c in string.digits for c in n)\n",
    "    if lower and upper and spcl and dig:\n",
    "        print(\"Strong password\")\n",
    "    else:\n",
    "        print(\"Weak password\")\n",
    "else:\n",
    "    print(\"Password should be minimum 8 characters\")\n",
    "\n"
   ]
  },
  {
   "cell_type": "code",
   "execution_count": null,
   "id": "c6e61c83",
   "metadata": {},
   "outputs": [
    {
     "name": "stdout",
     "output_type": "stream",
     "text": [
      "Addition: 20\n",
      "Subtravtion 20\n",
      "Multiplication 0\n",
      "division by zero\n"
     ]
    }
   ],
   "source": [
    "#Problem: Implement a calculator with +, -, *, / operations.\n",
    "a,b=map(int,input(\"\").split())\n",
    "print(\"Addition:\",a+b)\n",
    "print(\"Subtraction\",a-b)\n",
    "print(\"Multiplication\",a*b)\n",
    "try:\n",
    "    print(\"Division\",a/b)\n",
    "except Exception as e:\n",
    "    print(e)\n",
    "\n"
   ]
  },
  {
   "cell_type": "code",
   "execution_count": 22,
   "id": "6dc50c20",
   "metadata": {},
   "outputs": [
    {
     "name": "stdout",
     "output_type": "stream",
     "text": [
      "{'hi': 2, 'bye': 1}\n",
      "hi\n"
     ]
    }
   ],
   "source": [
    "#Problem: Given a list of student names, find duplicates.\n",
    "from collections import Counter\n",
    "l=list(map(str,input(\"\").split()))\n",
    "w=dict(Counter(l))\n",
    "print(w)\n",
    "for k,v in w.items():\n",
    "   if v>1:\n",
    "    print(k)\n"
   ]
  },
  {
   "cell_type": "code",
   "execution_count": 26,
   "id": "c4a446c7",
   "metadata": {},
   "outputs": [
    {
     "name": "stdout",
     "output_type": "stream",
     "text": [
      "1.Celsius 2.Fahrenheit\n",
      "93.2 F\n"
     ]
    }
   ],
   "source": [
    "#Problem: Convert between Celsius and Fahrenheit.\n",
    "print(\"1.Celsius 2.Fahrenheit\")\n",
    "n=int(input(\"Choose in which form you want to give input\"))\n",
    "if n==1:\n",
    "    C=float(input(\"Celsius:\"))\n",
    "    F = (C *9/5) + 32\n",
    "    print(F,\"F\")\n",
    "elif n==2:\n",
    "    F=float(input(\"Fahrenheit:\"))\n",
    "    C=(F-32)*5/9\n",
    "    print(C,\"C\")\n"
   ]
  },
  {
   "cell_type": "code",
   "execution_count": 27,
   "id": "1d5e9790",
   "metadata": {},
   "outputs": [
    {
     "name": "stdout",
     "output_type": "stream",
     "text": [
      "900\n"
     ]
    }
   ],
   "source": [
    "#Find the largest number from a list of integers.\n",
    "l=list(map(int,input(\"\").split()))\n",
    "print(max(l))"
   ]
  },
  {
   "cell_type": "code",
   "execution_count": 29,
   "id": "8a9d5f6f",
   "metadata": {},
   "outputs": [
    {
     "name": "stdout",
     "output_type": "stream",
     "text": [
      "Simple Interest: 160.0\n"
     ]
    }
   ],
   "source": [
    "#Problem: Calculate Simple Interest.\n",
    "P,T,R=map(float,input(\"\").split())\n",
    "print(\"Simple Interest:\",P*T*R/100)"
   ]
  },
  {
   "cell_type": "code",
   "execution_count": 34,
   "id": "f1c9b420",
   "metadata": {},
   "outputs": [
    {
     "name": "stdout",
     "output_type": "stream",
     "text": [
      "D - 32\n"
     ]
    }
   ],
   "source": [
    "#Given a dictionary of student names and attendance %, find defaulters (<75%).\n",
    "data=input(\"\")\n",
    "dic=dict(items.split(\":\") for items in data.split(\",\"))\n",
    "for k,v in dic.items():\n",
    "    if int(v)<75:\n",
    "        print(k,\"-\",v)"
   ]
  },
  {
   "cell_type": "code",
   "execution_count": 38,
   "id": "f962e897",
   "metadata": {},
   "outputs": [
    {
     "name": "stdout",
     "output_type": "stream",
     "text": [
      "Sum: 10\n"
     ]
    }
   ],
   "source": [
    "#9. Problem: Input: 1234 → Output: 10\n",
    "n=input(\"\")\n",
    "s=0\n",
    "for i in range(len(n)):\n",
    "    s+=int(n[i])\n",
    "print(\"Sum:\",s)\n"
   ]
  },
  {
   "cell_type": "code",
   "execution_count": 43,
   "id": "90216fb5",
   "metadata": {},
   "outputs": [
    {
     "name": "stdout",
     "output_type": "stream",
     "text": [
      "Not prime\n"
     ]
    }
   ],
   "source": [
    "#10. Problem: Write a function to check if a number is prime.\n",
    "def prime(n):\n",
    "    c=0\n",
    "    for i in range(1,n):\n",
    "        if n%i==0:\n",
    "            c+=1\n",
    "    if c>2:\n",
    "        print(\"Not prime\")\n",
    "    else:\n",
    "        print(\"Prime\")\n",
    "n=int(input(\"\"))\n",
    "prime(n)\n"
   ]
  },
  {
   "cell_type": "code",
   "execution_count": null,
   "id": "c5bf6633",
   "metadata": {},
   "outputs": [
    {
     "name": "stdout",
     "output_type": "stream",
     "text": [
      "Highest:6,Smallest:2\n"
     ]
    }
   ],
   "source": [
    "#11.Problem: Find smallest and largest numbers from a list.\n",
    "l=list(map(int,input(\"\").split()))\n",
    "print(f\"Highest:{max(l)},Smallest:{min(l)}\")"
   ]
  },
  {
   "cell_type": "code",
   "execution_count": 46,
   "id": "3af72dbf",
   "metadata": {},
   "outputs": [
    {
     "name": "stdout",
     "output_type": "stream",
     "text": [
      "Total bill: 457\n"
     ]
    }
   ],
   "source": [
    "#12. Problem: Given items with prices in a dictionary, calculate total bill.\n",
    "dic={\"pen\":3,\"Pencil\":4,\"Book\":450}\n",
    "s=0\n",
    "for k,v in dic.items():\n",
    "    s+=int(v)\n",
    "print(\"Total bill:\",s)"
   ]
  },
  {
   "cell_type": "code",
   "execution_count": 47,
   "id": "f11389d7",
   "metadata": {},
   "outputs": [
    {
     "name": "stdout",
     "output_type": "stream",
     "text": [
      "90\n"
     ]
    }
   ],
   "source": [
    "#13.Problem: Input 3 numbers, print the largest.\n",
    "a,b,c=map(int,input(\"\").split())\n",
    "print(max(a,b,c))"
   ]
  },
  {
   "cell_type": "code",
   "execution_count": null,
   "id": "14c1aafe",
   "metadata": {},
   "outputs": [
    {
     "name": "stdout",
     "output_type": "stream",
     "text": [
      "{'H': 1, 'e': 1, 'l': 4, 'o': 1, ' ': 1, 'a': 1}\n"
     ]
    }
   ],
   "source": [
    "#14.Problem: Count how many times each character appears in a string.\n",
    "from collections import Counter\n",
    "s=input(\"\")\n",
    "print(dict(Counter(s)))"
   ]
  },
  {
   "cell_type": "code",
   "execution_count": 51,
   "id": "fb685122",
   "metadata": {},
   "outputs": [
    {
     "name": "stdout",
     "output_type": "stream",
     "text": [
      "100\n"
     ]
    }
   ],
   "source": [
    "# 15.Problem: Calculate electricity bill:\n",
    "# First 100 units → ₹5/unit\n",
    "# Next 100 units → ₹7/unit\n",
    "# Above 200 units → ₹10/unit\n",
    "n=int(input(\"\"))\n",
    "b=0\n",
    "if n<=100:\n",
    "    b=n*5\n",
    "    print(b)\n",
    "elif n>100:\n",
    "    b=100*5+(n-100)*7\n",
    "    if n>0:\n",
    "        b=n*10\n",
    "        print(b)\n",
    "    else:\n",
    "        print(b)\n",
    "    \n"
   ]
  },
  {
   "cell_type": "code",
   "execution_count": 57,
   "id": "43ac7de4",
   "metadata": {},
   "outputs": [
    {
     "name": "stdout",
     "output_type": "stream",
     "text": [
      "['Amar', 'Naruto', 'ZHIZHI', 'Zengu']\n"
     ]
    }
   ],
   "source": [
    "#16.Problem: Sort a list of names in ascending order.\n",
    "l=[\"Amar\",\"Zengu\",\"Naruto\",\"ZHIZHI\"]\n",
    "l.sort()\n",
    "print(l)"
   ]
  },
  {
   "cell_type": "code",
   "execution_count": 58,
   "id": "e798d563",
   "metadata": {},
   "outputs": [
    {
     "name": "stdout",
     "output_type": "stream",
     "text": [
      "4321\n"
     ]
    }
   ],
   "source": [
    "#17.Input: 1234 → Output: 4321\n",
    "n=input(\"\")\n",
    "print(''.join(reversed(n)))"
   ]
  },
  {
   "cell_type": "code",
   "execution_count": 59,
   "id": "61af0501",
   "metadata": {},
   "outputs": [
    {
     "name": "stdout",
     "output_type": "stream",
     "text": [
      "Pc=3,Nc=2,Zc=1\n"
     ]
    }
   ],
   "source": [
    "#18.Problem: Given a list, count positive, negative, and zero numbers.\n",
    "l=[0,-4,5,6,8,-3]\n",
    "pc=nc=zc=0\n",
    "for i in l:\n",
    "    if i>0:\n",
    "        pc+=1\n",
    "    elif i<0:\n",
    "        nc+=1\n",
    "    elif i==0:\n",
    "        zc+=1\n",
    "print(f\"Pc={pc},Nc={nc},Zc={zc}\")\n"
   ]
  },
  {
   "cell_type": "code",
   "execution_count": 63,
   "id": "70dd0d4a",
   "metadata": {},
   "outputs": [
    {
     "name": "stdout",
     "output_type": "stream",
     "text": [
      "Enter correct pin\n",
      "Entered correct pin\n"
     ]
    }
   ],
   "source": [
    "#19. Problem: User has 3 attempts to enter correct PIN.\n",
    "class pin:\n",
    "    def __init__(self,pin):\n",
    "        self.pin=pin\n",
    "    def check_pin(self,pin1):\n",
    "        if self.pin==pin1:\n",
    "            return True\n",
    "        else:\n",
    "            print(\"Enter correct pin\")\n",
    "            return False\n",
    "p=pin(123)\n",
    "for _ in range(3):\n",
    " res=p.check_pin(int(input(\"\")))\n",
    " if res==True:\n",
    "     print(\"Entered correct pin\")\n",
    "     break\n"
   ]
  },
  {
   "cell_type": "code",
   "execution_count": 65,
   "id": "600e31aa",
   "metadata": {},
   "outputs": [
    {
     "name": "stdout",
     "output_type": "stream",
     "text": [
      "division by zero\n",
      "Sucessfully executed\n"
     ]
    }
   ],
   "source": [
    "#20.Problem: Write a program that asks for two numbers and divides them. Handle division by zero.\n",
    "a,b=map(int,input(\"\").split())\n",
    "try:\n",
    "    print(\"Division\",a/b)\n",
    "except Exception as e:\n",
    "    print(e)\n",
    "finally:\n",
    "    print(\"Sucessfully executed\")\n"
   ]
  },
  {
   "cell_type": "code",
   "execution_count": 73,
   "id": "349ae065",
   "metadata": {},
   "outputs": [
    {
     "name": "stdout",
     "output_type": "stream",
     "text": [
      "Value error\n"
     ]
    }
   ],
   "source": [
    "#21.Write a program that handles both ValueError (invalid input) and ZeroDivisionError.\n",
    "try:\n",
    "    a,b=map(int,input(\"\").split())\n",
    "    print(\"Division\",a/b)\n",
    "except ValueError:\n",
    "    print(\"Value error\")\n",
    "except ZeroDivisionError:\n",
    "    print(\"ZeroDivisionError\")"
   ]
  },
  {
   "cell_type": "code",
   "execution_count": null,
   "id": "a2e81a5f",
   "metadata": {},
   "outputs": [
    {
     "name": "stdout",
     "output_type": "stream",
     "text": [
      "Error: Withdrawal is more than balance\n"
     ]
    }
   ],
   "source": [
    "#22.If withdrawal amount is greater than balance, raise an exception.\n",
    "class BalanceError(Exception):\n",
    "    \"\"\"Raised when withdrawal is more than balance\"\"\"\n",
    "    pass\n",
    "\n",
    "b, w = map(int, input(\"Enter balance and withdrawal: \").split())\n",
    "\n",
    "try:\n",
    "    if w > b:\n",
    "        raise BalanceError(\"Withdrawal is more than balance\")\n",
    "    else:\n",
    "        print(\"Transaction successful! Remaining balance:\", b - w)\n",
    "except BalanceError as e:\n",
    "    print(\"Error:\", e)\n"
   ]
  },
  {
   "cell_type": "code",
   "execution_count": 79,
   "id": "930358a5",
   "metadata": {},
   "outputs": [
    {
     "name": "stdout",
     "output_type": "stream",
     "text": [
      "Invalid input type\n",
      "Bill processing finished\n"
     ]
    }
   ],
   "source": [
    "# 23.Problem: Calculate total price, handle invalid input, and always show \"Bill processing finished\".\n",
    "# • First 100 units → ₹5/unit\n",
    "# • Next 100 units → ₹7/unit\n",
    "# • Above 200 units → ₹10/unit\n",
    "try:\n",
    " n=int(input(\"\"))\n",
    " b=0\n",
    " if n<=100:\n",
    "    b=n*5\n",
    "    print(b)\n",
    " elif n>100:\n",
    "    b=100*5+(n-100)*7\n",
    "    if n>0:\n",
    "        b=n*10\n",
    "        print(b)\n",
    "    else:\n",
    "        print(b)\n",
    "except ValueError:\n",
    "   print(\"Invalid input type\")\n",
    "finally:\n",
    "   print(\"Bill processing finished\")\n"
   ]
  }
 ],
 "metadata": {
  "kernelspec": {
   "display_name": "Python 3",
   "language": "python",
   "name": "python3"
  },
  "language_info": {
   "codemirror_mode": {
    "name": "ipython",
    "version": 3
   },
   "file_extension": ".py",
   "mimetype": "text/x-python",
   "name": "python",
   "nbconvert_exporter": "python",
   "pygments_lexer": "ipython3",
   "version": "3.11.0"
  }
 },
 "nbformat": 4,
 "nbformat_minor": 5
}
